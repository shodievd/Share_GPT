{
 "cells": [
  {
   "cell_type": "code",
   "execution_count": null,
   "id": "c238a754",
   "metadata": {},
   "outputs": [],
   "source": [
    "import numpy as np\n",
    "import matplotlib.pyplot as plt\n",
    "\n",
    "plt.rcParams.update({'font.size': 14})\n",
    "%config InlineBackend.figure_format = 'retina'"
   ]
  },
  {
   "cell_type": "markdown",
   "id": "8befb106",
   "metadata": {},
   "source": [
    "Напишите здесь ФИО и логин в тг"
   ]
  },
  {
   "cell_type": "markdown",
   "id": "4bfd714e",
   "metadata": {},
   "source": [
    "Выберите произвольную непрерывную унимодальную заданную на отрезке $[a, b]$ функцию, постройте её график"
   ]
  },
  {
   "cell_type": "markdown",
   "id": "6bfa834b",
   "metadata": {},
   "source": [
    "$f(x) = $"
   ]
  },
  {
   "cell_type": "code",
   "execution_count": null,
   "id": "6c005515",
   "metadata": {},
   "outputs": [],
   "source": [
    "# code"
   ]
  },
  {
   "cell_type": "markdown",
   "id": "8de25a18",
   "metadata": {},
   "source": [
    "Напишите функции, реализующие одномерный поиск методами дихотомии и золотого сечения"
   ]
  },
  {
   "cell_type": "code",
   "execution_count": null,
   "id": "5200d5b2",
   "metadata": {},
   "outputs": [],
   "source": [
    "def dich(f, *args):\n",
    "    pass\n",
    "\n",
    "def gold(f, *args):\n",
    "    pass"
   ]
  },
  {
   "cell_type": "markdown",
   "id": "16962748",
   "metadata": {},
   "source": [
    "Найдите минимум функции $f$ с помощью методов одномерного поиска, отметьте найденное решение на графике функции"
   ]
  },
  {
   "cell_type": "code",
   "execution_count": null,
   "id": "125f6bd5",
   "metadata": {},
   "outputs": [],
   "source": [
    "# code"
   ]
  },
  {
   "cell_type": "markdown",
   "id": "390855fe",
   "metadata": {},
   "source": [
    "Для обоих методов постройте графики зависимости количества вычислений функции от требуемой точности.\n",
    "\n",
    "Оформляйте графики так, чтобы было понятно, что на них изображено: подписывайте оси, при необходимости добавляйте заглавие (`plt.title()`) и легенду (`plt.legend()`). Графики могут получиться более информативными, если использовать логарифмический масштаб"
   ]
  },
  {
   "cell_type": "code",
   "execution_count": null,
   "id": "e180549d",
   "metadata": {},
   "outputs": [],
   "source": [
    "# code"
   ]
  },
  {
   "cell_type": "markdown",
   "id": "6b970f5e",
   "metadata": {},
   "source": [
    "Каковы теоретические гарантии на скорость сходимости этих методов? Во всех ли случаях метод с лучшей оценкой на скорость сходимости / сложность сходится быстрее? "
   ]
  },
  {
   "cell_type": "markdown",
   "id": "f81d246d",
   "metadata": {},
   "source": [
    "Ответ здесь"
   ]
  },
  {
   "cell_type": "markdown",
   "id": "b234f976",
   "metadata": {},
   "source": [
    "Воспользуйтесь [методом](https://docs.scipy.org/doc/scipy/reference/generated/scipy.optimize.minimize_scalar.html#scipy.optimize.minimize_scalar)  одномерной минимизации из библиотеки `scipy`. Для этого метода тоже постройте график количества вызовов функции от точности. Разместите его на одной оси с графиками, построенными выше."
   ]
  },
  {
   "cell_type": "code",
   "execution_count": null,
   "id": "4dafe2b3",
   "metadata": {},
   "outputs": [],
   "source": [
    "# code"
   ]
  }
 ],
 "metadata": {
  "kernelspec": {
   "display_name": "Python 3 (ipykernel)",
   "language": "python",
   "name": "python3"
  },
  "language_info": {
   "codemirror_mode": {
    "name": "ipython",
    "version": 3
   },
   "file_extension": ".py",
   "mimetype": "text/x-python",
   "name": "python",
   "nbconvert_exporter": "python",
   "pygments_lexer": "ipython3",
   "version": "3.10.6"
  }
 },
 "nbformat": 4,
 "nbformat_minor": 5
}
